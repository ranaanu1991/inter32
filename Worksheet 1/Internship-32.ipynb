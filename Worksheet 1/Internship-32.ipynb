{
 "cells": [
  {
   "cell_type": "markdown",
   "id": "fdbbf59d",
   "metadata": {},
   "source": [
    "# 12. Write a python program to find whether a number is prime or composite."
   ]
  },
  {
   "cell_type": "code",
   "execution_count": 1,
   "id": "1cba1d0e",
   "metadata": {},
   "outputs": [
    {
     "name": "stdout",
     "output_type": "stream",
     "text": [
      "Enter a number:10\n",
      "The number is not prime\n"
     ]
    }
   ],
   "source": [
    "num=int(input(\"Enter a number:\"))\n",
    "x=0\n",
    "for i in range(2, num):\n",
    "    if (num % i ==0):\n",
    "        x = 1\n",
    "        break\n",
    "\n",
    "if (x==0):\n",
    "    print(\"The number is prime\")\n",
    "else:\n",
    "    print(\"The number is not prime\")"
   ]
  },
  {
   "cell_type": "code",
   "execution_count": 6,
   "id": "55b55213",
   "metadata": {},
   "outputs": [
    {
     "name": "stdout",
     "output_type": "stream",
     "text": [
      "Enter a number:11\n",
      "Ita a prime number\n"
     ]
    }
   ],
   "source": [
    "num=int(input(\"Enter a number:\"))\n",
    "count=0\n",
    "i=1\n",
    "while i<=num:\n",
    "    if (num % i ==0):\n",
    "        count=count+1\n",
    "    i=i+1\n",
    "if count==2:\n",
    "    print(\"Ita a prime number\")\n",
    "elif count>2:\n",
    "    print(\"Its a composite number\")\n",
    "else:\n",
    "    print(\"The number is neigher prime nor composite\")"
   ]
  },
  {
   "cell_type": "markdown",
   "id": "25397967",
   "metadata": {},
   "source": [
    "# 11. Write a python program to find the factorial of a number."
   ]
  },
  {
   "cell_type": "code",
   "execution_count": 7,
   "id": "0653173d",
   "metadata": {},
   "outputs": [
    {
     "name": "stdout",
     "output_type": "stream",
     "text": [
      "Enter number:6\n",
      "Factorial number is: 720\n"
     ]
    }
   ],
   "source": [
    "x=int(input(\"Enter number:\"))\n",
    "fact=1\n",
    "\n",
    "for i in range(1,x+1):\n",
    "    fact=fact*i\n",
    "print(\"Factorial number is:\",fact)"
   ]
  },
  {
   "cell_type": "markdown",
   "id": "9c64fa0b",
   "metadata": {},
   "source": [
    "# 13. Write a python program to check whether a given string is palindrome or not."
   ]
  },
  {
   "cell_type": "code",
   "execution_count": 18,
   "id": "ec1942d0",
   "metadata": {},
   "outputs": [
    {
     "name": "stdout",
     "output_type": "stream",
     "text": [
      "Enter a string:tiger\n",
      "Not a Palindrome\n"
     ]
    }
   ],
   "source": [
    "x=input(\"Enter a string:\")\n",
    "reverse=(x[::-1])\n",
    "if reverse==x:\n",
    "    print(\"Palindrome\")\n",
    "else:\n",
    "    print(\"Not a Palindrome\")"
   ]
  },
  {
   "cell_type": "code",
   "execution_count": 19,
   "id": "9e293cd9",
   "metadata": {},
   "outputs": [
    {
     "name": "stdout",
     "output_type": "stream",
     "text": [
      "Enter a string:madam\n",
      "Palindrome\n"
     ]
    }
   ],
   "source": [
    "x=input(\"Enter a string:\")\n",
    "reverse=(x[::-1])\n",
    "if reverse==x:\n",
    "    print(\"Palindrome\")\n",
    "else:\n",
    "    print(\"Not a Palindrome\")"
   ]
  },
  {
   "cell_type": "markdown",
   "id": "d64a2e85",
   "metadata": {},
   "source": [
    "# 14. Write a Python program to get the third side of right-angled triangle from two given sides."
   ]
  },
  {
   "cell_type": "code",
   "execution_count": 21,
   "id": "ae0678e4",
   "metadata": {},
   "outputs": [
    {
     "name": "stdout",
     "output_type": "stream",
     "text": [
      "Enter the first angle:30\n",
      "Enter the second angle:60\n",
      "The third angle of the triangle is: 90.0\n"
     ]
    }
   ],
   "source": [
    "a=float(input(\"Enter the first angle:\"))\n",
    "b=float(input(\"Enter the second angle:\"))\n",
    "c=180-(a+b)\n",
    "print(\"The third angle of the triangle is:\",c)"
   ]
  },
  {
   "cell_type": "markdown",
   "id": "d6384d63",
   "metadata": {},
   "source": [
    "# 15. Write a python program to print the frequency of each of the characters present in a given string."
   ]
  },
  {
   "cell_type": "code",
   "execution_count": 25,
   "id": "4466266b",
   "metadata": {},
   "outputs": [
    {
     "name": "stdout",
     "output_type": "stream",
     "text": [
      "Enter any Stringpython program\n",
      "Enter search Characterp\n",
      "Number of time found= 2\n"
     ]
    }
   ],
   "source": [
    "st=input(\"Enter any String\")\n",
    "ch=input(\"Enter search Character\")\n",
    "p=0\n",
    "for i in st:\n",
    "    if i==ch:\n",
    "        p=p+1\n",
    "print(\"Number of time found=\",p)"
   ]
  },
  {
   "cell_type": "code",
   "execution_count": null,
   "id": "9bfb11e8",
   "metadata": {},
   "outputs": [],
   "source": []
  }
 ],
 "metadata": {
  "kernelspec": {
   "display_name": "Python 3 (ipykernel)",
   "language": "python",
   "name": "python3"
  },
  "language_info": {
   "codemirror_mode": {
    "name": "ipython",
    "version": 3
   },
   "file_extension": ".py",
   "mimetype": "text/x-python",
   "name": "python",
   "nbconvert_exporter": "python",
   "pygments_lexer": "ipython3",
   "version": "3.9.12"
  }
 },
 "nbformat": 4,
 "nbformat_minor": 5
}
